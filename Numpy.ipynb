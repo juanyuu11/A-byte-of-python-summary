{
 "cells": [
  {
   "cell_type": "markdown",
   "id": "c8924bcf",
   "metadata": {},
   "source": [
    "# NumPy (Numerical Python)\n",
    "\n",
    "Numpy es un paquete de Python para computación científica. Permite una generación y un manejo de datos extremadamente rápidos.\n",
    "\n",
    "## ```array```\n",
    "\n",
    "Este paquete tiene su propia estructura de datos llamada ```array```. Los arreglos son similares a las listas pero tienen muchos más métodos integrados,lo que facilita la operación con los datos almacenados."
   ]
  },
  {
   "cell_type": "code",
   "execution_count": 1,
   "id": "f5c1c01d",
   "metadata": {},
   "outputs": [],
   "source": [
    "#Debemos importar el paquete\n",
    "import numpy as np"
   ]
  },
  {
   "cell_type": "code",
   "execution_count": 2,
   "id": "83931f6f",
   "metadata": {},
   "outputs": [],
   "source": [
    "lista = [1,2,3,4,5,6,7,8,9,10] \n",
    "#Podemos crear un array a partir de una lista\n",
    "array = np.array(lista)"
   ]
  },
  {
   "cell_type": "markdown",
   "id": "9dffa52c",
   "metadata": {},
   "source": [
    "Podemos pensar en los arreglos como **matrices y vectores:** Los vectores son arreglos de una sola fila y las matrices son arreglos de vectores."
   ]
  },
  {
   "cell_type": "code",
   "execution_count": 3,
   "id": "7210d074",
   "metadata": {},
   "outputs": [
    {
     "name": "stdout",
     "output_type": "stream",
     "text": [
      "['Este' 'es' 'un' 'vector'],['Este' 'es' 'otro' 'vector'],['Este' 'es' 'otro' 'vector más']\n",
      "\n",
      "Esto es una matriz: \n",
      "[['Este' 'es' 'un' 'vector']\n",
      " ['Este' 'es' 'otro' 'vector']\n",
      " ['Este' 'es' 'otro' 'vector más']]\n"
     ]
    }
   ],
   "source": [
    "array1 = np.array(['Este','es','un','vector'])\n",
    "array2 = np.array(['Este','es','otro','vector'])\n",
    "array3 = np.array(['Este','es','otro','vector más'])\n",
    "matriz = np.array([array1,array2,array3])\n",
    "\n",
    "print('{0},{1},{2}\\n'.format(array1,array2,array3))\n",
    "print('Esto es una matriz: \\n{0}'.format(matriz))"
   ]
  },
  {
   "cell_type": "markdown",
   "id": "4b566055",
   "metadata": {},
   "source": [
    "## Métodos para crear arreglos"
   ]
  },
  {
   "cell_type": "code",
   "execution_count": 4,
   "id": "50fbbbc6",
   "metadata": {},
   "outputs": [],
   "source": [
    "#Crea un arreglo de números enteros entre los argumentos 1 y 2\n",
    "#Podemos agregar el paso en el tercer argumento.\n",
    "array1 = np.arange(-10,10,2)\n",
    "\n",
    "#Crea un arreglo de n ceros donde n es el argumento\n",
    "array2 = np.zeros(5)\n",
    "\n",
    "#Crea un arreglo de n unos donde n es el argumento\n",
    "array3 = np.ones(5)\n",
    "\n",
    "#para tener un arreglo de n numeros x \n",
    "#podemos multiplicar el arreglo anterior por x\n",
    "array4  = 2*array3\n",
    "\n",
    "#Crea un arreglo numérico espaciados uniformemente\n",
    "#El primer argumento es el inicio del intervalo\n",
    "#El segundo argumento es el final del intervalo\n",
    "#El ultimo argumento es el número de datos que queremos\n",
    "#------ (Se distribuirán uniformemente) ----------------\n",
    "array5 = np.linspace(0,100,10)\n",
    "\n",
    "#Crea un arreglo identidad de nxn donde n es el argumento\n",
    "array6 = np.eye(5)"
   ]
  },
  {
   "cell_type": "code",
   "execution_count": 5,
   "id": "1f3655bf",
   "metadata": {},
   "outputs": [
    {
     "name": "stdout",
     "output_type": "stream",
     "text": [
      "Arreglo de números entre -10 y 10 con paso 2:\n",
      "[-10  -8  -6  -4  -2   0   2   4   6   8]\n",
      "\n",
      "Arreglo de 5 ceros:\n",
      "[0. 0. 0. 0. 0.]\n",
      "\n",
      "Arreglo de 5 unos:\n",
      "[1. 1. 1. 1. 1.]\n",
      "\n",
      "Arreglo de 5 dos:\n",
      "[2. 2. 2. 2. 2.]\n",
      "\n",
      "Arreglo distribuido uniformemente:\n",
      "[  0.          11.11111111  22.22222222  33.33333333  44.44444444\n",
      "  55.55555556  66.66666667  77.77777778  88.88888889 100.        ]\n",
      "\n",
      "matriz identidad de 5x5:\n",
      "[[1. 0. 0. 0. 0.]\n",
      " [0. 1. 0. 0. 0.]\n",
      " [0. 0. 1. 0. 0.]\n",
      " [0. 0. 0. 1. 0.]\n",
      " [0. 0. 0. 0. 1.]]\n"
     ]
    }
   ],
   "source": [
    "print('Arreglo de números entre -10 y 10 con paso 2:\\n{0}\\n\\n\\\n",
    "Arreglo de 5 ceros:\\n{1}\\n\\nArreglo de 5 unos:\\n{2}\\n\\n\\\n",
    "Arreglo de 5 dos:\\n{3}\\n\\nArreglo distribuido uniformemente:\\n{4}\\n\\n\\\n",
    "matriz identidad de 5x5:\\n{5}'.format(array1,array2,array3,array4,array5,array6))"
   ]
  },
  {
   "cell_type": "markdown",
   "id": "e1a701f1",
   "metadata": {},
   "source": [
    "## Métodos con números aleatorios"
   ]
  },
  {
   "cell_type": "code",
   "execution_count": 6,
   "id": "77a3d308",
   "metadata": {},
   "outputs": [],
   "source": [
    "#genera un array de mxn numeros aleatorios entre 0 y 1\n",
    "#donde m es el número de filas\n",
    "#donde n es el número de columnas\n",
    "a = np.random.rand(1,5)\n",
    "\n",
    "#Si queremos un array de n números aleatorios entre 0 y 10\n",
    "b = 10*a\n",
    "\n",
    "#Genera una array de números enteros aleatorios en el intervalo\n",
    "# [Primer argumento, Segundo argumento)\n",
    "# De n elementos donde n es el tercer argumento\n",
    "\n",
    "arrayrand = np.random.randint(-10,10,5)"
   ]
  },
  {
   "cell_type": "code",
   "execution_count": 7,
   "id": "680e0dcf",
   "metadata": {},
   "outputs": [
    {
     "name": "stdout",
     "output_type": "stream",
     "text": [
      "Este es un arreglo de números aleatorios entre 0 y 1:\n",
      "[[0.60058095 0.06487148 0.91108736 0.68672106 0.92694477]]\n",
      "\n",
      "Este es un arreglo de números aleatorios entre 0 y 10:\n",
      "[[6.00580946 0.6487148  9.11087362 6.86721062 9.26944767]]\n",
      "\n",
      "Este es un arreglo de números enteros aleatorios en el intervalo [-10,10) de 5 elementos:\n",
      "[ 4 -3 -2  9 -8]\n"
     ]
    }
   ],
   "source": [
    "print('Este es un arreglo de números aleatorios entre 0 y 1:\\n{0}\\n\\n\\\n",
    "Este es un arreglo de números aleatorios entre 0 y 10:\\n{1}\\n\\n\\\n",
    "Este es un arreglo de números enteros aleatorios en el intervalo \\\n",
    "[-10,10) de 5 elementos:\\n{2}'.format(a,b,arrayrand))"
   ]
  },
  {
   "cell_type": "markdown",
   "id": "efb34ce9",
   "metadata": {},
   "source": [
    "## Remodelar arrays"
   ]
  },
  {
   "cell_type": "code",
   "execution_count": 15,
   "id": "7d9d0c4a",
   "metadata": {},
   "outputs": [],
   "source": [
    "array = np.random.rand(8,3)\n",
    "\n",
    "#Te dice las dimensiones del array\n",
    "array.shape \n",
    "\n",
    "#Cambia las dimensiones del array\n",
    "#DEBE TENER LA MISMA CANTIDAD DE ELEMENTOS\n",
    "array = array.reshape(6,4)"
   ]
  },
  {
   "cell_type": "markdown",
   "id": "b7fe33c5",
   "metadata": {},
   "source": [
    "## Máximos y mínimos"
   ]
  },
  {
   "cell_type": "code",
   "execution_count": 18,
   "id": "09747462",
   "metadata": {},
   "outputs": [
    {
     "name": "stdout",
     "output_type": "stream",
     "text": [
      "0.9860718952543279\n",
      "21\n",
      "0.0018075178281897752\n",
      "6\n"
     ]
    }
   ],
   "source": [
    "print(array.max()) #retorna el valor maximo\n",
    "print(array.argmax()) #retorna el índice del valor maximo\n",
    "print(array.min()) #retorna el valor mínimo\n",
    "print(array.argmin()) #retorna el índice del valor mínimo"
   ]
  },
  {
   "cell_type": "markdown",
   "id": "91d8c0b9",
   "metadata": {},
   "source": [
    "# Funciones $f(x)$\n",
    "\n",
    "* $\\large e^x \\rightarrow$ ```np.exp(x)```\n",
    "\n",
    "\n",
    "* $\\large \\sin{x} \\rightarrow$ ```np.sin(x)```\n",
    "\n",
    "\n",
    "* $\\large \\cos{x} \\rightarrow$ ```np.cos(x)```\n",
    "\n",
    "\n",
    "* $\\large \\log{x} \\rightarrow$ ```np.log(x)```\n",
    "\n",
    "\n",
    "* $\\sqrt{x} \\rightarrow$ ``` np.sqrt(x)```\n",
    "\n",
    "Para redondear un arreglo de números a $\\text{n}$ cifras significativas usamos el método ```np.round(x,n)```"
   ]
  }
 ],
 "metadata": {
  "kernelspec": {
   "display_name": "Python 3 (ipykernel)",
   "language": "python",
   "name": "python3"
  },
  "language_info": {
   "codemirror_mode": {
    "name": "ipython",
    "version": 3
   },
   "file_extension": ".py",
   "mimetype": "text/x-python",
   "name": "python",
   "nbconvert_exporter": "python",
   "pygments_lexer": "ipython3",
   "version": "3.10.4"
  }
 },
 "nbformat": 4,
 "nbformat_minor": 5
}
