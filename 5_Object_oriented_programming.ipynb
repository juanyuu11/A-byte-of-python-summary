{
 "cells": [
  {
   "cell_type": "markdown",
   "id": "32123a42",
   "metadata": {},
   "source": [
    "## Programación orientada a objetos\n",
    "\n",
    "Cuando escribimos nuestro programa como bloques de líneas que manipulan datos estamos orgfanizando nuestro programa de la forma ***procedure-oriented***. \n",
    "\n",
    "Esto es lo que hemos hecho hasta ahora, sin embargo, existe otra manera de organizar nuestros programa en la cual **combinamos datos y funcionalidades** y las metemos dentro de **algo llamado objeto**. Esto es llamado ***object oriented programming***"
   ]
  },
  {
   "cell_type": "markdown",
   "id": "890cbf12",
   "metadata": {},
   "source": [
    "## Clases y objetos.\n",
    "\n",
    "Una **clase** crea un nuevo ```type``` donde los **objetos son ejemplos** de la clase. Por ejemplo, podemos como variables unos números enteros, es decir, las variables son **objetos** de la **clase** ```int```\n",
    "\n",
    "* **fields**: Son variables que pertenecen al objeto **(instance variables)** ó a la clase **(class variables)**.\n",
    "\n",
    "* **Methods:** Son funciones que pertenecen a la clase y podemos usarla con el objeto por el hecho de pertenecer a la clase.\n",
    "\n",
    "* **Attributes:** Es el conjunto de los campos y los métodos de una clase."
   ]
  },
  {
   "cell_type": "markdown",
   "id": "2cff3190",
   "metadata": {},
   "source": [
    "# Crear clases en python\n",
    "\n",
    "Podemos crear clases usando la *keyword* ```class``` y listando los atributos en el bloque identado.\n",
    "\n",
    "## ```self```\n",
    "\n",
    "Los métodos de una clase (a diferencia de las funciones ordinarias) deben tener un nombre extra al inicio de la **lista de parámetros**, sin embargo, no le damos un valor a este parámetro cuando usamos el método, Python lo hace. Por **convención**, se le da el nombre ```self```porque hace referencia al objeto mismo.\n",
    "\n",
    "Si tenemos una classe llamada ```MiClase``` y un objeto de esta clase es ```MiObjeto```. \n",
    "\n",
    "Al usar un método: ```MiObjeto.method(arg1,arg2)```\n",
    "\n",
    "esto en Python se convierte a: ```MiClase.method(MiObjeto,arg1,arg2)```.\n",
    "\n"
   ]
  },
  {
   "cell_type": "markdown",
   "id": "c16061ef",
   "metadata": {},
   "source": [
    "## CLASS"
   ]
  },
  {
   "cell_type": "code",
   "execution_count": 1,
   "id": "e31f4fdb",
   "metadata": {
    "scrolled": true
   },
   "outputs": [
    {
     "name": "stdout",
     "output_type": "stream",
     "text": [
      "<__main__.person object at 0x7faec1dcf400>\n"
     ]
    }
   ],
   "source": [
    "class person: #creamos una clase\n",
    "    #--------------body of the class block-----------------\n",
    "    pass\n",
    "    #-------------body of the class block-------------------\n",
    "p = person() #creamos un objeto de clase person \n",
    "print(p)"
   ]
  },
  {
   "cell_type": "markdown",
   "id": "00ec84fe",
   "metadata": {},
   "source": [
    "## METHODS"
   ]
  },
  {
   "cell_type": "code",
   "execution_count": 2,
   "id": "09c78299",
   "metadata": {},
   "outputs": [
    {
     "name": "stdout",
     "output_type": "stream",
     "text": [
      "Hello, how are you?\n"
     ]
    }
   ],
   "source": [
    "class person: #creamos una clase \n",
    "#-----------body of the class-------------------------\n",
    "    #definimos un método----------------------------------\n",
    "    def say_hi(self):\n",
    "        \n",
    "        #el método imprime un mensaje\n",
    "        print('Hello, how are you?')\n",
    "    #definimos un método----------------------------------\n",
    "#---------body of the class-------------------------------\n",
    "\n",
    "p = person() #creamos un objeto de clase person\n",
    "p.say_hi() #usamos el metodo"
   ]
  },
  {
   "cell_type": "markdown",
   "id": "0db5bf5a",
   "metadata": {},
   "source": [
    "### ```__init__```\n",
    "\n",
    "este método de clase es usado tan pronto como un objeto de la clase es creado. Sirve para hacer cualquier inicialización."
   ]
  },
  {
   "cell_type": "code",
   "execution_count": 3,
   "id": "9fe85c8e",
   "metadata": {},
   "outputs": [
    {
     "name": "stdout",
     "output_type": "stream",
     "text": [
      "Hello Juan, how are you?\n"
     ]
    },
    {
     "data": {
      "text/plain": [
       "'Juan'"
      ]
     },
     "execution_count": 3,
     "metadata": {},
     "output_type": "execute_result"
    }
   ],
   "source": [
    "class person: #creamos una clase \n",
    "#-----------body of the class-------------------------\n",
    "    \n",
    "    #inicializamos--------------------------------\n",
    "    \n",
    "    #El método __init__ toma un parámetro (name)\n",
    "    #name se convierte en una variable local del método \n",
    "    def __init__(self,name): \n",
    "        #al asignar self.name = name...\n",
    "        #creamos una variable global de la clase (field)\n",
    "        self.name = name\n",
    "\n",
    "    #inicializamos---------------------------------\n",
    "    \n",
    "    \n",
    "    \n",
    "    #definimos un método----------------------------------\n",
    "    \n",
    "    def say_hi(self): \n",
    "        #Ahora podemos usar la variable global self.name\n",
    "        print('Hello {0}, how are you?'.format(self.name))\n",
    "    \n",
    "    #definimos un método----------------------------------\n",
    "\n",
    "#---------body of the class-------------------------------\n",
    "\n",
    "p = person('Juan') #creamos un objeto de clase person\n",
    "p.say_hi() #usamos el metodo\n",
    "p.name #podemos usar las variables globales fuera del método"
   ]
  },
  {
   "cell_type": "markdown",
   "id": "94688799",
   "metadata": {},
   "source": [
    "## FIELD\n",
    "\n",
    "Son variables que están vinculadas a las clases y objetos. Como se mencionó anteriormente, hay de dos tipos: De clase y de objeto.\n",
    "\n",
    "* **Class variable** son compartidas, se puede acceder a ellas a través de todos los objetos de una clase. Cuando un objeto realiza un cambio en esta variable, este cambio se verá reflejado para todos los objetos de la clase.\n",
    "\n",
    "* **Object variable** pertenecen a cada objeto de la clase. "
   ]
  },
  {
   "cell_type": "code",
   "execution_count": 10,
   "id": "2c14c922",
   "metadata": {},
   "outputs": [],
   "source": [
    "class robot:\n",
    "    '''Representa un robot'''\n",
    "    \n",
    "    #definimos una variable de clase\n",
    "    poblacion = 0\n",
    "    \n",
    "    #inicializamos variables de objeto-------------\n",
    "    def __init__(self,name):\n",
    "        '''Crea un robot'''\n",
    "        self.name = name\n",
    "        print('inicializando {0}'.format(self.name))\n",
    "        \n",
    "        #cuando se inicialice un objeto de clase robot\n",
    "        #suma 1 a la población de robots\n",
    "        robot.poblacion += 1\n",
    "    #------------------------------------------\n",
    "    \n",
    "    def die(self):\n",
    "        '''Destruye un robot'''\n",
    "        print('{0} está siendo destruido!'.format(self.name))\n",
    "        robot.poblacion -= 1\n",
    "    #--------------------------------------------\n",
    "    \n",
    "    def hola(self):\n",
    "        print('Saludos, humano. Mi nombre ser {0}'.format(self.name))\n",
    "    #--------------------------------------------\n",
    "    \n",
    "    @classmethod\n",
    "    def cuantos(cls):\n",
    "        '''Imprime la población actual de robots'''\n",
    "        print('Existen {:d} robots'.format(cls.poblacion))"
   ]
  },
  {
   "cell_type": "code",
   "execution_count": 20,
   "id": "0841a767",
   "metadata": {
    "scrolled": true
   },
   "outputs": [
    {
     "name": "stdout",
     "output_type": "stream",
     "text": [
      "inicializando siri\n",
      "Saludos, humano. Mi nombre ser siri\n",
      "Existen 1 robots\n"
     ]
    }
   ],
   "source": [
    "apple = robot('siri')\n",
    "apple.hola()\n",
    "robot.cuantos()"
   ]
  },
  {
   "cell_type": "code",
   "execution_count": 21,
   "id": "bc3bbeb6",
   "metadata": {},
   "outputs": [
    {
     "name": "stdout",
     "output_type": "stream",
     "text": [
      "inicializando R2-D2\n",
      "Saludos, humano. Mi nombre ser R2-D2\n",
      "Existen 2 robots\n"
     ]
    }
   ],
   "source": [
    "arturito = robot('R2-D2')\n",
    "arturito.hola()\n",
    "robot.cuantos()"
   ]
  },
  {
   "cell_type": "code",
   "execution_count": 22,
   "id": "efae3c19",
   "metadata": {},
   "outputs": [
    {
     "name": "stdout",
     "output_type": "stream",
     "text": [
      "Los robots son peligrosos, hay que acabar con ellos\n",
      "siri está siendo destruido!\n",
      "R2-D2 está siendo destruido!\n",
      "Existen 0 robots\n"
     ]
    }
   ],
   "source": [
    "print('Los robots son peligrosos, \\\n",
    "hay que acabar con ellos')\n",
    "\n",
    "apple.die()\n",
    "arturito.die()\n",
    "robot.cuantos()"
   ]
  },
  {
   "cell_type": "markdown",
   "id": "902127ac",
   "metadata": {},
   "source": [
    "La función ```robot.cuantos()``` es una función que pertenece a la clase y no a los objetos. \n",
    "Para definirla usamos un ```decorator```."
   ]
  },
  {
   "cell_type": "markdown",
   "id": "9176c157",
   "metadata": {},
   "source": [
    "# Herencia\n",
    "\n",
    "El mecanismo de la herencia nos permite implementar la relación de tipos y subtipos entre clases. Esto es muy útil, pues, nos permite reutilizar código.\n",
    "\n",
    "Si para un programa vamos a crear 2 clases muy similares, lo mejor es crear una clase y a partir de esta crear 2 subclases que hereden los atributos de la clase padre.\n",
    "\n",
    "Si agregamos o cambiamos un atributo a la clase padre, este cambio se verá reflejado en las subclases. \n",
    "Si agregamos o cambiamos un atributo de una subclase, este cambio no se verá reflejado en las otras subclases.\n",
    "\n",
    "La clase padre es llamada **base class** o **superclass**, las clases que se derivan a partir de esta son llamadas **derived classe** or **subclasses**"
   ]
  },
  {
   "cell_type": "code",
   "execution_count": 32,
   "id": "79b846b5",
   "metadata": {},
   "outputs": [],
   "source": [
    "class SchoolMember: #DEfinimos una clase\n",
    "    '''Representa un personal del colegio'''\n",
    "    def __init__(self,name,age):\n",
    "        self.name = name\n",
    "        self.age = age\n",
    "        print('Miembro inscrito: {}'.format(self.name))\n",
    "    def constancia(self):\n",
    "        '''imprime la constancia'''\n",
    "        print('Nombre: {0}\\nEdad:{1}'.format(self.name,self.age))"
   ]
  },
  {
   "cell_type": "code",
   "execution_count": 33,
   "id": "80d23cc2",
   "metadata": {},
   "outputs": [],
   "source": [
    "class Profe(SchoolMember): #Definimos una subclase\n",
    "    '''Representa un profesor'''\n",
    "    \n",
    "    #Para inicializar un profesor, agregamos un nuevo parámetro\n",
    "    def __init__(self,name,age,salary):\n",
    "    #No debemos inicializar cada argumento\n",
    "    #Podemos usar la inicialización definida en la superclass\n",
    "        SchoolMember.__init__(self,name,age)\n",
    "    #debemos inicializar los argumentos nuevos    \n",
    "        self.salary = salary\n",
    "    \n",
    "    #De igual forma con los otros métodos\n",
    "    #Podemos usar los métodos ya definidos en la superclass\n",
    "    def constancia(self):\n",
    "        SchoolMember.constancia(self)\n",
    "        print('Salario: {}'.format(self.salary))\n",
    "\n",
    "class estudiante(SchoolMember):\n",
    "    '''Representa un estudiante'''\n",
    "    \n",
    "    def __init__(self,name,age,curso):\n",
    "        SchoolMember.__init__(self,name,age)\n",
    "        self.curso = curso\n",
    "    def constancia(self):\n",
    "        SchoolMember.constancia(self)\n",
    "        print('Curso: {}'.format(self.curso))"
   ]
  },
  {
   "cell_type": "code",
   "execution_count": 34,
   "id": "1bb39152",
   "metadata": {},
   "outputs": [
    {
     "name": "stdout",
     "output_type": "stream",
     "text": [
      "Miembro inscrito: Carlos Perez\n",
      "Miembro inscrito: Juan Otálvaro\n"
     ]
    }
   ],
   "source": [
    "profe_carlos = Profe('Carlos Perez',34,3000) \n",
    "est_Juan = estudiante('Juan Otálvaro',19,11)"
   ]
  },
  {
   "cell_type": "code",
   "execution_count": 35,
   "id": "901ff80c",
   "metadata": {},
   "outputs": [
    {
     "name": "stdout",
     "output_type": "stream",
     "text": [
      "Nombre: Juan Otálvaro\n",
      "Edad:19\n",
      "Curso: 11\n"
     ]
    }
   ],
   "source": [
    "#El método con el mismo nombre realiza acciones \n",
    "#diferentes para cada subclases\n",
    "#pues, así lo quisimos\n",
    "est_Juan.constancia()"
   ]
  },
  {
   "cell_type": "code",
   "execution_count": 36,
   "id": "b1faacd3",
   "metadata": {},
   "outputs": [
    {
     "name": "stdout",
     "output_type": "stream",
     "text": [
      "Nombre: Carlos Perez\n",
      "Edad:34\n",
      "Salario: 3000\n"
     ]
    }
   ],
   "source": [
    "profe_carlos.constancia()"
   ]
  }
 ],
 "metadata": {
  "kernelspec": {
   "display_name": "Python 3 (ipykernel)",
   "language": "python",
   "name": "python3"
  },
  "language_info": {
   "codemirror_mode": {
    "name": "ipython",
    "version": 3
   },
   "file_extension": ".py",
   "mimetype": "text/x-python",
   "name": "python",
   "nbconvert_exporter": "python",
   "pygments_lexer": "ipython3",
   "version": "3.10.4"
  }
 },
 "nbformat": 4,
 "nbformat_minor": 5
}
