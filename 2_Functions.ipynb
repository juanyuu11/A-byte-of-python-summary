{
 "cells": [
  {
   "cell_type": "markdown",
   "id": "4a664855",
   "metadata": {},
   "source": [
    "# Funciones\n",
    "\n",
    "Son piezas de códigos reutilizables que podemos usar en cualquier parte de nuestro código.\n",
    "\n",
    "## ```def```\n",
    "\n",
    "Definimos funciones usando la **keyword** ```def``` seguido del nombre de la función y los argumentos de esta encerrados entre parentesis.\n",
    "\n",
    "## Parámetros y argumentos\n",
    "\n",
    "Los **parámetros** de una función son las variables que necesita la función para funcionar. Los valores que asignamos a los parámetros son llamados **argumentos.**"
   ]
  },
  {
   "cell_type": "code",
   "execution_count": 9,
   "id": "b8fa4d45",
   "metadata": {},
   "outputs": [
    {
     "data": {
      "text/plain": [
       "5"
      ]
     },
     "execution_count": 9,
     "metadata": {},
     "output_type": "execute_result"
    }
   ],
   "source": [
    "#definiendo la función 'suma'\n",
    "#tiene dos 2 parámetros que necesitan argumento\n",
    "#tiene un tercer parámetro que por defecto es 1\n",
    "def suma(a,b,c = 1):\n",
    "    '''Retorna la suma de a y b''' #Explicación de la función\n",
    "    operacion = a+b #operacion\n",
    "    return operacion #retornamos suma\n",
    "#------------------------------------\n",
    "suma(2,3) #usamos la función"
   ]
  },
  {
   "cell_type": "markdown",
   "id": "b6c3775f",
   "metadata": {},
   "source": [
    "## Variables locales\n",
    "\n",
    "Las variables que definimos dentro de una función son locales, es decir, **no están definidas fuera del entorno de la función**. \n",
    "\n",
    "Para definir ```suma()``` creamos una variable llamada ```operacion```. Si intentamos usar esta variable obtendremos que esta no está definida."
   ]
  },
  {
   "cell_type": "code",
   "execution_count": 10,
   "id": "691b4392",
   "metadata": {},
   "outputs": [
    {
     "name": "stdout",
     "output_type": "stream",
     "text": [
      "name 'operacion' is not defined\n"
     ]
    }
   ],
   "source": [
    "try:\n",
    "    print(operacion)\n",
    "except Exception as error:\n",
    "    print(error)"
   ]
  },
  {
   "cell_type": "markdown",
   "id": "2afc4e22",
   "metadata": {},
   "source": [
    "## Keyword arguments\n",
    "\n",
    "Podemos ingresar los argumentos en el orden que queramos asignandolos al parámetro que cumplen, esto es muy util cuando las funciones tienen muchos parámetros, como las funciones de matplotlib."
   ]
  },
  {
   "cell_type": "code",
   "execution_count": 12,
   "id": "d1bce7cd",
   "metadata": {},
   "outputs": [
    {
     "name": "stdout",
     "output_type": "stream",
     "text": [
      "a b c d He cambiado esta letra\n"
     ]
    }
   ],
   "source": [
    "def letters(a='a',b='b',c='c',d='d',e='e'):\n",
    "    print(a,b,c,d,e)\n",
    "\n",
    "letters(e='He cambiado esta letra')"
   ]
  }
 ],
 "metadata": {
  "kernelspec": {
   "display_name": "Python 3 (ipykernel)",
   "language": "python",
   "name": "python3"
  },
  "language_info": {
   "codemirror_mode": {
    "name": "ipython",
    "version": 3
   },
   "file_extension": ".py",
   "mimetype": "text/x-python",
   "name": "python",
   "nbconvert_exporter": "python",
   "pygments_lexer": "ipython3",
   "version": "3.10.4"
  }
 },
 "nbformat": 4,
 "nbformat_minor": 5
}
