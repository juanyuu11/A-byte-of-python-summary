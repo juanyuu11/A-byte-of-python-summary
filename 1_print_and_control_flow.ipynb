{
 "cells": [
  {
   "cell_type": "markdown",
   "id": "96996af5",
   "metadata": {},
   "source": [
    "# Python básico\n",
    "\n",
    "## Variables\n",
    "\n",
    "Las variables pueden tener distintos tipos o clases. Las clases más básicas son los números y los strings, pero podemos crear nuestras propias clases usando```classes```.\n",
    "\n",
    "En python no es necesario **definir** las variables, podemos usarlas simplemente asignandoles un número, un string, etc."
   ]
  },
  {
   "cell_type": "markdown",
   "id": "b2c845a6",
   "metadata": {},
   "source": [
    "## Números\n",
    "\n",
    "En python tenemos distintas clases de números. \n",
    "* Tenemos los números de clase ```int```, que básicamente son números enteros.\n",
    "* Tenemos los números de clase ```float```, que básicamente son números con parte decimal.\n",
    "* Tenemos los números de clase ```complex```, que básicamente son números complejos."
   ]
  },
  {
   "cell_type": "code",
   "execution_count": 10,
   "id": "29b8fec9",
   "metadata": {},
   "outputs": [
    {
     "data": {
      "text/plain": [
       "(int, float, complex)"
      ]
     },
     "execution_count": 10,
     "metadata": {},
     "output_type": "execute_result"
    }
   ],
   "source": [
    "num1 = 2\n",
    "num2 = 2.0\n",
    "num3 = 2 + 0j #el número i se representa con una j... (ingenieros)\n",
    "type(num1), type(num2), type(num3)"
   ]
  },
  {
   "cell_type": "markdown",
   "id": "e65f2b26",
   "metadata": {},
   "source": [
    "## Cadenas\n",
    "\n",
    "No solo tenemos variables numéricas, también tenemos ```string```, que básicamente son una secuencia de carácteres. este tipo de variable es **inmutable**, es decir, no puede ser cambiada"
   ]
  },
  {
   "cell_type": "code",
   "execution_count": 5,
   "id": "69516345",
   "metadata": {},
   "outputs": [
    {
     "data": {
      "text/plain": [
       "'Hola mundo'"
      ]
     },
     "execution_count": 5,
     "metadata": {},
     "output_type": "execute_result"
    }
   ],
   "source": [
    "str1 = 'Hola mundo'\n",
    "str1"
   ]
  },
  {
   "cell_type": "markdown",
   "id": "1e8dba3a",
   "metadata": {},
   "source": [
    "podemos **construir cadenas de textos a partir de otra información**. Para esto podemos usar el método ```format()```"
   ]
  },
  {
   "cell_type": "code",
   "execution_count": 1,
   "id": "38e9c777",
   "metadata": {
    "scrolled": true
   },
   "outputs": [
    {
     "data": {
      "text/plain": [
       "'Mi nombre es Juan Pablo y tengo 19 años'"
      ]
     },
     "execution_count": 1,
     "metadata": {},
     "output_type": "execute_result"
    }
   ],
   "source": [
    "edad = 19 \n",
    "nombre = 'Juan Pablo'\n",
    "#format reemplaza el elemento {i} por su argumento número i+1 \n",
    "'Mi nombre es {0} y tengo {1} años'.format(nombre,edad)"
   ]
  },
  {
   "cell_type": "markdown",
   "id": "7ad7b40b",
   "metadata": {},
   "source": [
    "Una forma alternativa de hacer esto es usar \"*f-strings*\""
   ]
  },
  {
   "cell_type": "code",
   "execution_count": 5,
   "id": "67f6d86f",
   "metadata": {
    "scrolled": true
   },
   "outputs": [
    {
     "data": {
      "text/plain": [
       "'Mi nombre es Juan Pablo y tengo 19 años.'"
      ]
     },
     "execution_count": 5,
     "metadata": {},
     "output_type": "execute_result"
    }
   ],
   "source": [
    "a = f\"Mi nombre es {nombre} y tengo {edad} años.\"\n",
    "a"
   ]
  },
  {
   "cell_type": "markdown",
   "id": "5cc073ad",
   "metadata": {},
   "source": [
    "### Secuencias de escape\n",
    "\n",
    "Para especificar que una cadena tiene 2 lineas usamos ```\\n```"
   ]
  },
  {
   "cell_type": "code",
   "execution_count": 20,
   "id": "c1ed5f87",
   "metadata": {},
   "outputs": [
    {
     "name": "stdout",
     "output_type": "stream",
     "text": [
      "Este es el primer renglón.\n",
      "Este es el segundo renglón\n"
     ]
    }
   ],
   "source": [
    "print('Este es el primer renglón.\\nEste es el segundo renglón')"
   ]
  },
  {
   "cell_type": "code",
   "execution_count": 28,
   "id": "b444a87f",
   "metadata": {
    "scrolled": true
   },
   "outputs": [
    {
     "name": "stdout",
     "output_type": "stream",
     "text": [
      "Esta es la primera parte Esta es la segunda parte\n"
     ]
    }
   ],
   "source": [
    "print('Esta es la primera parte\\\n",
    " Esta es la segunda parte') #Así se usan 2 physical lines para un solo statement"
   ]
  },
  {
   "cell_type": "markdown",
   "id": "c4647300",
   "metadata": {},
   "source": [
    "## Logical and Physical Line\n",
    "\n",
    "una *physical line* es un 'renglón'.\n",
    "\n",
    "``` a = 5 #Esta es una physical line```\n",
    "    \n",
    "una *logical line* es lo que Python reconoce como un *statement* u orden.\n",
    "\n",
    "Podemos escribir varias *logical lines* en una *physical line*, esto no es especialmente útil, pues, hace que el código sea más dificil de leer por otra persona, sin embargo, puede venir bien cuando tenemos una línea de código muy larga."
   ]
  },
  {
   "cell_type": "code",
   "execution_count": 13,
   "id": "32a33d24",
   "metadata": {},
   "outputs": [
    {
     "name": "stdout",
     "output_type": "stream",
     "text": [
      "1 2 3\n"
     ]
    }
   ],
   "source": [
    "a = 1; b = a + 1; c = b + 1; print(a,b,c)\n",
    "#muchas logical lines escritas en una physical line\n",
    "# (No demasiado útil)"
   ]
  },
  {
   "cell_type": "code",
   "execution_count": 15,
   "id": "ccd7a0e9",
   "metadata": {},
   "outputs": [],
   "source": [
    "long_string = 'Tener una linea muy larga es un poco incómodo al momento de leer el código'"
   ]
  },
  {
   "cell_type": "code",
   "execution_count": 16,
   "id": "321d67c3",
   "metadata": {
    "scrolled": false
   },
   "outputs": [
    {
     "data": {
      "text/plain": [
       "'Aquí se hace util el poder usar variasphysical lines para una logical line'"
      ]
     },
     "execution_count": 16,
     "metadata": {},
     "output_type": "execute_result"
    }
   ],
   "source": [
    "long_string2 ='Aquí se hace util el poder usar varias\\\n",
    "physical lines para una logical line'\n",
    "long_string2 \n",
    "#En este código hay 5 physical lines pero solo 2 lineas son \n",
    "#de tipo logical line"
   ]
  },
  {
   "cell_type": "markdown",
   "id": "a7d708bf",
   "metadata": {},
   "source": [
    "# Control flow\n",
    "\n",
    "Hasta ahora los códigos en python se han ejecutado en orden desde la primera línea hasta la última línea. Los **control flow statements** nos permiten alterar este orden. "
   ]
  },
  {
   "cell_type": "markdown",
   "id": "5f0c905c",
   "metadata": {},
   "source": [
    "## ```if``` , ```elif``` y ```else```  \n",
    "\n",
    "Este statement se usa para verificar que se cumpla una condición, si la condición es ```True```, se ejecuta un bloque de línea (llamado ```if-block```). Cuando la condición es ```False```, python salta el if-block escrito y sigue ejecutandose línea a línea.\n",
    "\n",
    "Podemos agregar condiciones adicionales cuando la condición inicial es falsa, esto se hace con el statement ```elif```. Podemos agregar las condiciones que queramos y si ninguna de estas se cumple, podemos usar el statement ```else```, se ejecutará el ```else-block``` cuando ni una de las condiciones anteriores se cumpla"
   ]
  },
  {
   "cell_type": "code",
   "execution_count": 52,
   "id": "e4a64347",
   "metadata": {},
   "outputs": [
    {
     "name": "stdout",
     "output_type": "stream",
     "text": [
      "Ingrese un número entero200\n",
      "200 es mayor que 100\n"
     ]
    }
   ],
   "source": [
    "#Creamos una variable\n",
    "a = int(input('Ingrese un número entero'))\n",
    "\n",
    "if a < 100: #Si a es menor que 100\n",
    "    print('{0} es menor que 100'.format(a))\n",
    "\n",
    "elif a == 100: #Si a es igual a 100\n",
    "    print('{0} es igual a 100'.format(a))\n",
    "\n",
    "else: #Si a no cumple las condiciones anteriores\n",
    "    print('{0} es mayor que 100'.format(a))"
   ]
  },
  {
   "cell_type": "markdown",
   "id": "f64489dd",
   "metadata": {},
   "source": [
    "Podemos usar los statements if, else en una sola línea física"
   ]
  },
  {
   "cell_type": "code",
   "execution_count": 54,
   "id": "0a8e4865",
   "metadata": {},
   "outputs": [
    {
     "name": "stdout",
     "output_type": "stream",
     "text": [
      "200 no es un string\n"
     ]
    }
   ],
   "source": [
    "print('{0} es un string'.format(a)) if type(a) == str else print('{0} no es un string'.format(a))"
   ]
  },
  {
   "cell_type": "markdown",
   "id": "f17c0dfa",
   "metadata": {},
   "source": [
    "## ```while```\n",
    "\n",
    "Este statement repetirá un bloque de líneas **mientras** la condición sea ```True```. También podemos agregar un ```else``` que se ejecutará cuando la condición pase a ser ```False```.\n",
    "\n",
    "Es una buena costumbre agregar un máximo de iteraciones para que el ciclo no sea infinito."
   ]
  },
  {
   "cell_type": "code",
   "execution_count": 7,
   "id": "ae008bf1",
   "metadata": {},
   "outputs": [
    {
     "name": "stdout",
     "output_type": "stream",
     "text": [
      "2\n",
      "2\n",
      "2\n",
      "2\n",
      "2\n",
      "Se ha terminado el ciclo\n"
     ]
    }
   ],
   "source": [
    "i = 0 #numero de iteraciones\n",
    "a = 2\n",
    "#Mientras estas condiciones se cumplan:\n",
    "while a < 10 and i < 5:\n",
    "#--------------------------while-block ------------------\n",
    "    print(a) #se ejecutará línea por línea\n",
    "    #al no hacer ninguna operación con a, el ciclo se repetirá\n",
    "    #INFINITAMENTE\n",
    "    a = a \n",
    "    i += 1 #Por eso es recomendable agregar un contador\n",
    "    #El ciclo se acabará cuando el contador llegue al maximo (5)\n",
    "#-------------------------while-block --------------------\n",
    "else:\n",
    "    print('Se ha terminado el ciclo')"
   ]
  },
  {
   "cell_type": "markdown",
   "id": "01757a65",
   "metadata": {},
   "source": [
    "## ```for```\n",
    "\n",
    "También permite hacer ciclos, pero itera sobre una ```secuencia``` de objetos, por ejemplo, los elementos de una lista, los caracteres de un string o simplemente una secuencia de numeros."
   ]
  },
  {
   "cell_type": "code",
   "execution_count": 12,
   "id": "352547b3",
   "metadata": {},
   "outputs": [
    {
     "name": "stdout",
     "output_type": "stream",
     "text": [
      "a\n",
      "e\n",
      "i\n",
      "o\n",
      "u\n",
      "El ciclo ha terminado\n"
     ]
    }
   ],
   "source": [
    "vocales = 'aeiou'\n",
    "for i in vocales:\n",
    "    print(i)\n",
    "else:\n",
    "    print('El ciclo ha terminado')"
   ]
  },
  {
   "cell_type": "markdown",
   "id": "a78195e2",
   "metadata": {},
   "source": [
    "### ```range()```\n",
    "\n",
    "La *built-in function* ```range(a,b,c = 1)``` retorna una secuencia numérica de enteros $[\\text{a,b})$. Podemos alterar el 'paso' ingresando un número ENTERO en el tercer argumento $\\text{c}$"
   ]
  },
  {
   "cell_type": "code",
   "execution_count": 34,
   "id": "c0ebe37f",
   "metadata": {},
   "outputs": [
    {
     "name": "stdout",
     "output_type": "stream",
     "text": [
      "0\n",
      "2\n",
      "4\n"
     ]
    }
   ],
   "source": [
    "for i in range(0,6,2): #El 6 no se incluye\n",
    "    print(i)"
   ]
  },
  {
   "cell_type": "code",
   "execution_count": 39,
   "id": "673ed303",
   "metadata": {},
   "outputs": [
    {
     "name": "stdout",
     "output_type": "stream",
     "text": [
      "4\n",
      "2\n",
      "0\n"
     ]
    }
   ],
   "source": [
    "for i in range(4,-1,-2): #Podemos cambiar el orden\n",
    "    print(i)"
   ]
  },
  {
   "cell_type": "code",
   "execution_count": 46,
   "id": "454ba2c5",
   "metadata": {},
   "outputs": [
    {
     "name": "stdout",
     "output_type": "stream",
     "text": [
      "range(1, 10)\n"
     ]
    },
    {
     "data": {
      "text/plain": [
       "[1, 2, 3, 4, 5, 6, 7, 8, 9]"
      ]
     },
     "execution_count": 46,
     "metadata": {},
     "output_type": "execute_result"
    }
   ],
   "source": [
    "a = range(1,10) #Esto no genera una lista\n",
    "b = list(range(1,10)) #Esto sí genera una lista \n",
    "print(a);b"
   ]
  },
  {
   "cell_type": "markdown",
   "id": "2f1ad14e",
   "metadata": {},
   "source": [
    "## ```break```\n",
    "\n",
    "Se usa para romper un ciclo generado por un **control flow statement** como ```while```o ```for``` incluso si la condición del ciclo no se ha convertido en falsa o si la secuencia sobre la cual estamos iterando no ha terminado.\n",
    "\n",
    "Si usamos el statement ```break``` para romper un ciclo, cualquier supuesto ```else-block``` no será ejecutado."
   ]
  },
  {
   "cell_type": "code",
   "execution_count": 47,
   "id": "9890b2a4",
   "metadata": {},
   "outputs": [
    {
     "name": "stdout",
     "output_type": "stream",
     "text": [
      "Enter something : 22\n",
      "Length of the string is 2\n",
      "Enter something : hola mucho gusto\n",
      "Length of the string is 16\n",
      "Enter something : quit\n",
      "Done\n"
     ]
    }
   ],
   "source": [
    "while True: #La condición True nunca cambia\n",
    "#---------------------------while-block------------------\n",
    "    s = input('Enter something : ')\n",
    "    if s == 'quit': #Si se cumple esta condición\n",
    "        break #ROMPE EL CICLO\n",
    "    print('Length of the string is', len(s))\n",
    "#----------------------------while-block--------------\n",
    "print('Done')"
   ]
  },
  {
   "cell_type": "markdown",
   "id": "8d873cc5",
   "metadata": {},
   "source": [
    "## ```continue```\n",
    "\n",
    "Se usa para para saltar el resto de líneas del loop block  que se esté ejecutando y pasar a la siguiente iteración del loop."
   ]
  },
  {
   "cell_type": "code",
   "execution_count": 56,
   "id": "2d7eed0f",
   "metadata": {},
   "outputs": [
    {
     "name": "stdout",
     "output_type": "stream",
     "text": [
      "Enter something : 22\n",
      "Too small\n",
      "Enter something : treintaytres\n",
      "Input is of sufficient length\n",
      "Enter something : quit\n"
     ]
    }
   ],
   "source": [
    "while True:# La condición True nunca cambia\n",
    "#---------------------------while-block------------------\n",
    "    s = input('Enter something : ')\n",
    "    #---------------------\n",
    "    if s == 'quit': #si el usuario ingresa quit\n",
    "        break #rompe el ciclo\n",
    "    #-------------------\n",
    "    if len(s) < 3: #si el usario ingresa un str muuy corto\n",
    "        print('Too small') #imprime mensaje\n",
    "        continue #pasa a la siguiente iteración\n",
    "    #-------------------------------------------------\n",
    "    #si el usuario ingresa un str de longitud deseada\n",
    "    print('Input is of sufficient length')\n",
    "#---------------------------while-block------------------"
   ]
  }
 ],
 "metadata": {
  "kernelspec": {
   "display_name": "Python 3 (ipykernel)",
   "language": "python",
   "name": "python3"
  },
  "language_info": {
   "codemirror_mode": {
    "name": "ipython",
    "version": 3
   },
   "file_extension": ".py",
   "mimetype": "text/x-python",
   "name": "python",
   "nbconvert_exporter": "python",
   "pygments_lexer": "ipython3",
   "version": "3.10.4"
  }
 },
 "nbformat": 4,
 "nbformat_minor": 5
}
