{
 "cells": [
  {
   "cell_type": "markdown",
   "id": "b33d89b5",
   "metadata": {},
   "source": [
    "# Estrucutras de datos\n",
    "\n",
    "Son básicamente estructuras que se usan para almacenar una colección de datos relacionados.\n",
    "\n",
    "Hay 4 estructuras built-in: *list, tuple, dictionary and set*."
   ]
  },
  {
   "cell_type": "markdown",
   "id": "9db0dda3",
   "metadata": {},
   "source": [
    "## list\n",
    "\n",
    "Una lista puede almacenar una colección ordenada de items. Las listas son **mutables**, es decir, podemos agregar, eliminar y cambiar elementos de ella.\n",
    "\n",
    "Podemos agregar cualquier objeto a una lista, inclusive otras listas.\n",
    "\n",
    "Las listas son clase ```list```. Las clases son parecidas a los módulos, pues, tienen sus propios métodos."
   ]
  },
  {
   "cell_type": "code",
   "execution_count": 67,
   "id": "2a3d498f",
   "metadata": {
    "scrolled": false
   },
   "outputs": [
    {
     "name": "stdout",
     "output_type": "stream",
     "text": [
      "[1, 2, 3, 4, 5, 6, 7, 8, 9, 10, 11]\n",
      "[0, 1, 2, 3, 4, 5, 6, 7, 8, 9, 10]\n",
      "['b', 'c', 'd', 'e', 'f', 'g', 'h', 'i', 'j', 'k', 'l', 'm', 'n', 'o', 'p', 'q', 'r', 's', 't', 'q', 'y', 'z']\n"
     ]
    }
   ],
   "source": [
    "#---------------Métodos de una lista-------------------\n",
    "numeros = [1,2,3,4,5,6,7,8,9,10]\n",
    "letras = []\n",
    "#--------------------------------------------------------\n",
    "#Agrega el argumento ingresado a la cola de la lista\n",
    "numeros.append(11)\n",
    "\n",
    "#Retorna una copia de la lista\n",
    "copia = numeros.copy()\n",
    "\n",
    "#nos dice el número de veces que aparace el argumento (si existe en la lista)\n",
    "numeros.count(10) \n",
    "\n",
    "#extiende una lista ya existente agregando los elementos de un iterable\n",
    "letras.extend('abcdefghijklmnopqrstqyz') \n",
    "\n",
    "#retorna el valor de la posición del argumento (si existe en la lista)\n",
    "numeros.index(1) \n",
    "\n",
    "#agrega el valor ingresado en el segundo argumento en la posición indicada por el primer argumento\n",
    "numeros.insert(0,0) \n",
    "\n",
    "#elimina el elemento de la lista ubicado en la posición indicada por el argumento\n",
    "numeros.pop(-1) \n",
    "\n",
    "#elimina el primero de los elementos iguales al argumento (si existe en la lista)\n",
    "letras.remove('a') \n",
    "\n",
    "#le da la vuelta a la lista\n",
    "numeros.reverse() \n",
    "\n",
    "#reordena la lista en orden ascendente\n",
    "numeros.sort() \n",
    "\n",
    "#lista.clear() --> Eliminar todos los elementos de la lista\n",
    "#----------------------------------------------------------------\n",
    "print(copia)\n",
    "print(numeros)\n",
    "print(letras)"
   ]
  },
  {
   "cell_type": "markdown",
   "id": "c65cab00",
   "metadata": {},
   "source": [
    "Para ver los métodos y las variables definidas dentro de una clase list, usamos la función ```dir()```\n",
    "Para saber qué hace un método o una variable definida dentro de una clase list, usamos la función ```help(list.name_method)```"
   ]
  },
  {
   "cell_type": "markdown",
   "id": "93c1feb7",
   "metadata": {},
   "source": [
    "## tuple\n",
    "\n",
    "Las tuplas son similares a las listas pero son **inmutables** como los *strings*. sólo son utiles cuando tenemos la certeza de que no queremos cambiar nigún elemento de un conjunto de datos.\n",
    "\n",
    "Para ver los métodos y las variables definidas dentro de una clase ```tuple```, usamos la función ```dir()```\n",
    "Para saber qué hace un método o una variable definida dentro de una clase tuple, usamos la función ```help(tuple.name_method)```"
   ]
  },
  {
   "cell_type": "markdown",
   "id": "fbeebc4e",
   "metadata": {},
   "source": [
    "## dictionary\n",
    "\n",
    "Los diccionarios funcionan como un directiorio, podemos acceder a los datos ```(values)``` conociendo el nombre ```(keys)```. Por obvias razones, la ```key```debe ser única. Los diccionarios no tienen un orden específico, es decir, están indexados por las keys, no por números.\n",
    "\n",
    "Los diccionarios tienen su propia clase llamada clase ```dict```, esta clase tiene sus propios métodos:"
   ]
  },
  {
   "cell_type": "code",
   "execution_count": 87,
   "id": "137158da",
   "metadata": {
    "scrolled": true
   },
   "outputs": [
    {
     "name": "stdout",
     "output_type": "stream",
     "text": [
      "Copia del diccionario 'ID': {'Juan': '100304', 'Alberto': '122305'}.\n",
      "Diccionario nuevo: {'Juan': [100304, 122305, 1304002, 777777], 'Alberto': [100304, 122305, 1304002, 777777], 'Pablo': [100304, 122305, 1304002, 777777], 'Ronaldo': [100304, 122305, 1304002, 777777]}.\n",
      "\n",
      "El documento de juan es 100304\n",
      "\n",
      "Los items del diccionarios son: dict_items([('Juan', [100304, 122305, 1304002, 777777]), ('Alberto', [100304, 122305, 1304002, 777777]), ('Pablo', [100304, 122305, 1304002, 777777]), ('Ronaldo', [100304, 122305, 1304002, 777777])])\n",
      "\n",
      "Las llaves del diccionario son: dict_keys(['Juan', 'Alberto', 'Pablo', 'Ronaldo'])\n",
      "\n",
      "Los values del diccionario son: dict_values([[100304, 122305, 1304002, 777777], [100304, 122305, 1304002, 777777], [100304, 122305, 1304002, 777777], [100304, 122305, 1304002, 777777]])\n",
      "\n",
      "El ID de alberto es 122305 \n",
      "\n"
     ]
    }
   ],
   "source": [
    "ID = {'Juan':'100304', 'Alberto':'122305'} #Así se define un diccionario\n",
    "nombres = ['Juan', 'Alberto', 'Pablo', 'Ronaldo']\n",
    "identificaciones = [100304,122305,1304002,777777]\n",
    "#--------------------------------------Métodos de un diccionario---------------------------\n",
    "#retorna una copia del diccionario\n",
    "copia_id = ID.copy() \n",
    "\n",
    "#Crea un diccionario nuevo a partir de un iterable--> Cada elemento es una key (sin value por defecto)\n",
    "ID2 = dict.fromkeys(nombres,identificaciones)  \n",
    "\n",
    "#Retorna el value de la key ingresada en el argumento (si existe)\n",
    "juan_id = ID.get('Juan')\n",
    "\n",
    "#retorna un set con las keys y los values del diccionario\n",
    "conjunto = ID2.items()\n",
    "\n",
    "#retorna un set con las keys\n",
    "llaves = ID2.keys()\n",
    "\n",
    "#retorna un set con los values \n",
    "valores = ID2.values()\n",
    "\n",
    "#Elimina una llave y retorna el valor\n",
    "id_Alberto = ID.pop('Alberto')\n",
    "\n",
    "#Elimina la primera llave y su value, retorna ambos en una tupla\n",
    "\n",
    "id_juan = ID.popitem()\n",
    "\n",
    "#inserta una llave sin value por defecto\n",
    "ID.setdefault('Juan',100304)\n",
    "\n",
    "# ID.clear() Elimina las keys y los values de un diccionario\n",
    "#-----------------------------------------------------------------------\n",
    "print('Copia del diccionario \\'ID\\': {0}.\\n\\\n",
    "Diccionario nuevo: {1}.\\n\\n\\\n",
    "El documento de juan es {2}\\n\\n\\\n",
    "Los items del diccionarios son: {3}\\n\\n\\\n",
    "Las llaves del diccionario son: {4}\\n\\n\\\n",
    "Los values del diccionario son: {5}\\n\\n\\\n",
    "El ID de alberto es {6} \\n'.format(copia_id,ID2,juan_id,conjunto,llaves,valores,id_Alberto,id_juan,ID))"
   ]
  },
  {
   "cell_type": "markdown",
   "id": "33d7b1ca",
   "metadata": {},
   "source": [
    "## sequence\n",
    "\n",
    "Básicamente son estructuras cuyos elementos están indexados, por lo que podemos iterar sobre ellos.\n",
    "Las listas, tuplas y los strings son ejemplos de secuencias."
   ]
  },
  {
   "cell_type": "markdown",
   "id": "4a699634",
   "metadata": {},
   "source": [
    "## set\n",
    "\n",
    "Los conjuntos o sets son colecciones de objetos **simples** sin orden. Son usados cuando solo nos importa la existencia o no existencia de los objetos, pero no nos interesa el orden o las ocurrencias de estos.\n",
    "\n",
    "Para ver los métodos y las variables definidas dentro de una clase ```set```, usamos la función ```dir(set)```\n",
    "Para saber qué hace un método o una variable definida dentro de esta clase, usamos la función ```help(set.name_method)```"
   ]
  }
 ],
 "metadata": {
  "kernelspec": {
   "display_name": "Python 3 (ipykernel)",
   "language": "python",
   "name": "python3"
  },
  "language_info": {
   "codemirror_mode": {
    "name": "ipython",
    "version": 3
   },
   "file_extension": ".py",
   "mimetype": "text/x-python",
   "name": "python",
   "nbconvert_exporter": "python",
   "pygments_lexer": "ipython3",
   "version": "3.10.4"
  }
 },
 "nbformat": 4,
 "nbformat_minor": 5
}
