{
 "cells": [
  {
   "cell_type": "markdown",
   "id": "b370e828",
   "metadata": {},
   "source": [
    "# Archivos\n",
    "\n",
    "Podemos abrir y usar archivos para leer/escribir creando un objeto de clase ```file```y usando sus métodos ```read```, ```readline``` o ```write``` apropiadamente. Cuando dejamos de usar el archivo debemos usar el método ```close``` para decirle a Python que hemos terminado de usar el archivo.\n",
    "\n",
    "## ```open```\n",
    "\n",
    "Usamos este método para abrir (o crear en caso de que no exista) un objeto de clase ```file```. También nos deja especificar en qué modo queremos abrir el archivo:\n",
    "\n",
    "* **Modo de lectura:** ```open('file.txt','r')```\n",
    "* **Modo de escritura:** ```open('file.txt','w')```\n",
    "* **Modo de escritura al final del archivo:** ```open('file.txt,'a')```\n",
    "* **Modo de lectura y escritura:** ```open('file.txt','r+')```\n",
    "* **Modo binario:** ```open('file.txt','b')```"
   ]
  },
  {
   "cell_type": "code",
   "execution_count": 10,
   "id": "a7f524bb",
   "metadata": {},
   "outputs": [],
   "source": [
    "cadena = 'Me gusta comer mucho\\nA cualquier hora del día\\\n",
    " me encanta comer'\n",
    "\n",
    "#abrimos un archivo nuevo\n",
    "#usamos 'w' para decirle a Python que vamos a escribir en él\n",
    "file = open('texto.txt','w')\n",
    "\n",
    "#escribimos\n",
    "file.write(cadena)\n",
    "\n",
    "#cerramos\n",
    "file.close()"
   ]
  },
  {
   "cell_type": "code",
   "execution_count": 11,
   "id": "8090bf18",
   "metadata": {},
   "outputs": [
    {
     "name": "stdout",
     "output_type": "stream",
     "text": [
      "Me gusta comer mucho\n",
      "A cualquier hora del día me encanta comer"
     ]
    }
   ],
   "source": [
    "#Si no especificamos el modo\n",
    "#Se abrirá el modo de lectura por defecto\n",
    "file = open('texto.txt')\n",
    "\n",
    "while True: \n",
    "    #método readline() -->\n",
    "    line=file.readline()\n",
    "    \n",
    "    #si el archivo terminó, entonces tendrá cero carácteres\n",
    "    if len(line)==0: \n",
    "        break\n",
    "    print(line, end='')\n",
    "file.close()"
   ]
  },
  {
   "cell_type": "markdown",
   "id": "460977ee",
   "metadata": {},
   "source": [
    "##  Unicode\n",
    "\n",
    "Hasta ahora hemos escrito strings solo con carácteres del idioma inglés, sin embargo otros tipos de carácteres pueden ser representados en unicode.\n",
    "\n",
    "Las reglas para traducir Unicode a bytes se llaman encoding. "
   ]
  },
  {
   "cell_type": "code",
   "execution_count": 21,
   "id": "833c4aaf",
   "metadata": {
    "scrolled": true
   },
   "outputs": [
    {
     "name": "stdout",
     "output_type": "stream",
     "text": [
      "Imagine non-English language here\n"
     ]
    }
   ],
   "source": [
    "import io\n",
    "f = io.open(\"abc.txt\", \"w\", encoding=\"utf-8\")\n",
    "f.write(u\"Imagine non-English language here\")\n",
    "f.close()\n",
    "\n",
    "text = io.open(\"abc.txt\", encoding=\"utf-8\").read()\n",
    "print(text)"
   ]
  }
 ],
 "metadata": {
  "kernelspec": {
   "display_name": "Python 3 (ipykernel)",
   "language": "python",
   "name": "python3"
  },
  "language_info": {
   "codemirror_mode": {
    "name": "ipython",
    "version": 3
   },
   "file_extension": ".py",
   "mimetype": "text/x-python",
   "name": "python",
   "nbconvert_exporter": "python",
   "pygments_lexer": "ipython3",
   "version": "3.10.4"
  }
 },
 "nbformat": 4,
 "nbformat_minor": 5
}
