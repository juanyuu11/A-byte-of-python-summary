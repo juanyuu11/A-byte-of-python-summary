{
 "cells": [
  {
   "cell_type": "markdown",
   "id": "8ae11781",
   "metadata": {},
   "source": [
    "# Módulos\n",
    "\n",
    "Podemos reusar piezas de códigos definiendo funciones, sin embargo, a veces queremos llamar el código completo, con sus variables globales asignadas sus funciones definidas. \n",
    "\n",
    "La forma más simple de escribir un módulo es crear un archivo ```.py``` que contenga funciones y variables.\n",
    "\n",
    "Para llamar a los módulos usamos ```import module_name```. Al usarlo, python lo buscará en los directorios de ```sys.path```"
   ]
  },
  {
   "cell_type": "code",
   "execution_count": 8,
   "id": "fc566a1e",
   "metadata": {},
   "outputs": [
    {
     "name": "stdout",
     "output_type": "stream",
     "text": [
      "Los directorios de sys.path:\n",
      "/home/juanxx1/metodos_computacionales/Python_básico\n",
      "/usr/lib/python310.zip\n",
      "/usr/lib/python3.10\n",
      "/usr/lib/python3.10/lib-dynload\n",
      "\n",
      "/home/juanxx1/.local/lib/python3.10/site-packages\n",
      "/usr/local/lib/python3.10/dist-packages\n",
      "/usr/lib/python3/dist-packages\n"
     ]
    }
   ],
   "source": [
    "import sys #importamos el módulo sys\n",
    "print('Los directorios de sys.path:') \n",
    "for i in sys.path: \n",
    "#usamos una built-in sequence del módulo\n",
    "    print(i)"
   ]
  },
  {
   "cell_type": "markdown",
   "id": "a01310d8",
   "metadata": {},
   "source": [
    "Si el módulo es encontrado en estos directorios, entonces podemos empezar a usarlo.\n",
    "\n",
    "En el ejemplo anterior accedimos a la secuencia ```path``` del built-in module ```sys```. Esta básicamente es una variable local del módulo, así que si usamos el *identifier* ```path``` para otra variable, esta no se sobreescribirá. Notar que para llamar a la variable local del módulo usamos ```sys.path```. Análogamente se llama a las funciones y métodos del módulo."
   ]
  },
  {
   "cell_type": "markdown",
   "id": "6f669445",
   "metadata": {},
   "source": [
    "## ```from..import```\n",
    "\n",
    "Usamos el ```from name_module import name_var``` statement queremos importar directamente una función o una variable de un módulo. Así, nos ahorramos tener que escribir el 'prefijo'."
   ]
  },
  {
   "cell_type": "code",
   "execution_count": 32,
   "id": "29b46362",
   "metadata": {},
   "outputs": [
    {
     "data": {
      "text/plain": [
       "['/home/juanxx1/metodos_computacionales/Python_básico',\n",
       " '/usr/lib/python310.zip',\n",
       " '/usr/lib/python3.10',\n",
       " '/usr/lib/python3.10/lib-dynload',\n",
       " '',\n",
       " '/home/juanxx1/.local/lib/python3.10/site-packages',\n",
       " '/usr/local/lib/python3.10/dist-packages',\n",
       " '/usr/lib/python3/dist-packages']"
      ]
     },
     "execution_count": 32,
     "metadata": {},
     "output_type": "execute_result"
    }
   ],
   "source": [
    "#Importamos la sequence 'path' del módulo sys \n",
    "from sys import path\n",
    "#path se convirtió en una variable global del script\n",
    "path "
   ]
  },
  {
   "cell_type": "markdown",
   "id": "2ef32b34",
   "metadata": {},
   "source": [
    "## Creando módulos propios\n",
    "\n",
    "Cualquier programa de python es un módulo. Solo debe ser un archivo ```.py``` y debe estar en una de los directorios de ```sys.path```"
   ]
  },
  {
   "cell_type": "markdown",
   "id": "927eee48",
   "metadata": {},
   "source": [
    "## ```dir()```\n",
    "\n",
    "Es una *built-in function* que retorna la **lista de nombres definidos de un objeto**. Si el objeto en cuestión es un modulo, la lista incluye las funciones, clases y variables definidas dentro del módulo."
   ]
  },
  {
   "cell_type": "code",
   "execution_count": 42,
   "id": "e391bfa6",
   "metadata": {},
   "outputs": [
    {
     "data": {
      "text/plain": [
       "[['__breakpointhook__',\n",
       "  '__displayhook__',\n",
       "  '__doc__',\n",
       "  '__excepthook__',\n",
       "  '__interactivehook__',\n",
       "  '__loader__',\n",
       "  '__name__',\n",
       "  '__package__',\n",
       "  '__spec__',\n",
       "  '__stderr__',\n",
       "  '__stdin__',\n",
       "  '__stdout__',\n",
       "  '__unraisablehook__',\n",
       "  '_base_executable',\n",
       "  '_clear_type_cache',\n",
       "  '_current_exceptions',\n",
       "  '_current_frames',\n",
       "  '_deactivate_opcache',\n",
       "  '_debugmallocstats',\n",
       "  '_framework',\n",
       "  '_getframe',\n",
       "  '_git',\n",
       "  '_home',\n",
       "  '_xoptions',\n",
       "  'abiflags',\n",
       "  'addaudithook',\n",
       "  'api_version',\n",
       "  'argv',\n",
       "  'audit',\n",
       "  'base_exec_prefix',\n",
       "  'base_prefix',\n",
       "  'breakpointhook',\n",
       "  'builtin_module_names',\n",
       "  'byteorder',\n",
       "  'call_tracing',\n",
       "  'copyright',\n",
       "  'displayhook',\n",
       "  'dont_write_bytecode',\n",
       "  'exc_info',\n",
       "  'excepthook',\n",
       "  'exec_prefix',\n",
       "  'executable',\n",
       "  'exit',\n",
       "  'flags',\n",
       "  'float_info',\n",
       "  'float_repr_style',\n",
       "  'get_asyncgen_hooks',\n",
       "  'get_coroutine_origin_tracking_depth',\n",
       "  'getallocatedblocks',\n",
       "  'getdefaultencoding',\n",
       "  'getdlopenflags',\n",
       "  'getfilesystemencodeerrors',\n",
       "  'getfilesystemencoding',\n",
       "  'getprofile',\n",
       "  'getrecursionlimit',\n",
       "  'getrefcount',\n",
       "  'getsizeof',\n",
       "  'getswitchinterval',\n",
       "  'gettrace',\n",
       "  'hash_info',\n",
       "  'hexversion',\n",
       "  'implementation',\n",
       "  'int_info',\n",
       "  'intern',\n",
       "  'is_finalizing',\n",
       "  'last_traceback',\n",
       "  'last_type',\n",
       "  'last_value',\n",
       "  'maxsize',\n",
       "  'maxunicode',\n",
       "  'meta_path',\n",
       "  'modules',\n",
       "  'orig_argv',\n",
       "  'path',\n",
       "  'path_hooks',\n",
       "  'path_importer_cache',\n",
       "  'platform',\n",
       "  'platlibdir',\n",
       "  'prefix',\n",
       "  'ps1',\n",
       "  'ps2',\n",
       "  'ps3',\n",
       "  'pycache_prefix',\n",
       "  'set_asyncgen_hooks',\n",
       "  'set_coroutine_origin_tracking_depth',\n",
       "  'setdlopenflags',\n",
       "  'setprofile',\n",
       "  'setrecursionlimit',\n",
       "  'setswitchinterval',\n",
       "  'settrace',\n",
       "  'stderr',\n",
       "  'stdin',\n",
       "  'stdlib_module_names',\n",
       "  'stdout',\n",
       "  'thread_info',\n",
       "  'unraisablehook',\n",
       "  'version',\n",
       "  'version_info',\n",
       "  'warnoptions'],\n",
       " ['In',\n",
       "  'Out',\n",
       "  '_',\n",
       "  '_11',\n",
       "  '_16',\n",
       "  '_22',\n",
       "  '_24',\n",
       "  '_25',\n",
       "  '_29',\n",
       "  '_30',\n",
       "  '_31',\n",
       "  '_32',\n",
       "  '_37',\n",
       "  '_38',\n",
       "  '_39',\n",
       "  '_41',\n",
       "  '__',\n",
       "  '___',\n",
       "  '__builtin__',\n",
       "  '__builtins__',\n",
       "  '__doc__',\n",
       "  '__loader__',\n",
       "  '__name__',\n",
       "  '__package__',\n",
       "  '__spec__',\n",
       "  '_dh',\n",
       "  '_i',\n",
       "  '_i1',\n",
       "  '_i10',\n",
       "  '_i11',\n",
       "  '_i12',\n",
       "  '_i13',\n",
       "  '_i14',\n",
       "  '_i15',\n",
       "  '_i16',\n",
       "  '_i17',\n",
       "  '_i18',\n",
       "  '_i19',\n",
       "  '_i2',\n",
       "  '_i20',\n",
       "  '_i21',\n",
       "  '_i22',\n",
       "  '_i23',\n",
       "  '_i24',\n",
       "  '_i25',\n",
       "  '_i26',\n",
       "  '_i27',\n",
       "  '_i28',\n",
       "  '_i29',\n",
       "  '_i3',\n",
       "  '_i30',\n",
       "  '_i31',\n",
       "  '_i32',\n",
       "  '_i33',\n",
       "  '_i34',\n",
       "  '_i35',\n",
       "  '_i36',\n",
       "  '_i37',\n",
       "  '_i38',\n",
       "  '_i39',\n",
       "  '_i4',\n",
       "  '_i40',\n",
       "  '_i41',\n",
       "  '_i42',\n",
       "  '_i5',\n",
       "  '_i6',\n",
       "  '_i7',\n",
       "  '_i8',\n",
       "  '_i9',\n",
       "  '_ih',\n",
       "  '_ii',\n",
       "  '_iii',\n",
       "  '_oh',\n",
       "  'cos',\n",
       "  'exit',\n",
       "  'get_ipython',\n",
       "  'i',\n",
       "  'lista',\n",
       "  'np',\n",
       "  'path',\n",
       "  'plt',\n",
       "  'quit',\n",
       "  'sys']]"
      ]
     },
     "execution_count": 42,
     "metadata": {},
     "output_type": "execute_result"
    }
   ],
   "source": [
    "import sys\n",
    "lista = [dir(sys), dir()]\n",
    "#el primer elmento de lista es una lista de los nombres definidos en sys\n",
    "#el segundo elemento de la lista es una lista de los nombres definidos en el modulo actual--> 3_modulos\n",
    "lista"
   ]
  },
  {
   "cell_type": "markdown",
   "id": "d5f56c5b",
   "metadata": {},
   "source": [
    "# Paquetes\n",
    "\n",
    "Las variables van dentro de funciones, las funciones y las variables globales van dentro de los módulos. De igual manera, los módulos van dentro de los **paquetes**.\n",
    "\n",
    "Los paquetes básicamente son carpetas llenas de módulos, estas carpetas contienen módulo especial ```__init__.py``` que le dice a Python que esta carpeta es especial porque contiene modulos, es decir, archivos ```.py```\n",
    "\n",
    "Por ejemplo, si queremos crear un paquete llamado 'calculus' con subpaquetes llamados 'limits', 'derivates', 'integrals' y 'series', la estructura sería la siguiente:\n",
    "\n",
    "```\n",
    "- <some folder present in the sys.path>/\n",
    "    - calculus/\n",
    "        - __init__.py\n",
    "        - limits/\n",
    "            - __init__.py\n",
    "            - to infinit/\n",
    "                - __init__.py\n",
    "                - l'hôpital.py\n",
    "        - derivates/\n",
    "            - __init__.py\n",
    "            - parcials.py\n",
    "        - integrals/\n",
    "            -__init__.py\n",
    "            -undetermined.py\n",
    "        - series/\n",
    "            -__init__.py\n",
    "            -convergency.py\n",
    "\n",
    "```"
   ]
  },
  {
   "cell_type": "markdown",
   "id": "31d10a7a",
   "metadata": {},
   "source": [
    "Para encontrar el directorio en el que se encuentra un paquete podemos usar el siguiente código:"
   ]
  },
  {
   "cell_type": "code",
   "execution_count": 25,
   "id": "ea2a351e",
   "metadata": {},
   "outputs": [
    {
     "data": {
      "text/plain": [
       "'/home/juanxx1/.local/lib/python3.10/site-packages/matplotlib/__init__.py'"
      ]
     },
     "execution_count": 25,
     "metadata": {},
     "output_type": "execute_result"
    }
   ],
   "source": [
    "import matplotlib as plt\n",
    "plt.__file__"
   ]
  },
  {
   "cell_type": "code",
   "execution_count": null,
   "id": "b22bc7ed",
   "metadata": {},
   "outputs": [],
   "source": []
  }
 ],
 "metadata": {
  "kernelspec": {
   "display_name": "Python 3 (ipykernel)",
   "language": "python",
   "name": "python3"
  },
  "language_info": {
   "codemirror_mode": {
    "name": "ipython",
    "version": 3
   },
   "file_extension": ".py",
   "mimetype": "text/x-python",
   "name": "python",
   "nbconvert_exporter": "python",
   "pygments_lexer": "ipython3",
   "version": "3.10.4"
  }
 },
 "nbformat": 4,
 "nbformat_minor": 5
}
