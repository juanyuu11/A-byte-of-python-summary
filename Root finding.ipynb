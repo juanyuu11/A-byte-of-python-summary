{
 "cells": [
  {
   "cell_type": "markdown",
   "id": "9fcfabcc",
   "metadata": {},
   "source": [
    "# Root finding"
   ]
  },
  {
   "cell_type": "code",
   "execution_count": 5,
   "id": "303a60f9",
   "metadata": {},
   "outputs": [],
   "source": [
    "import numpy as np\n",
    "import matplotlib.pyplot as plt"
   ]
  },
  {
   "cell_type": "markdown",
   "id": "bf60fd80",
   "metadata": {},
   "source": [
    "## Método de bisección\n",
    "\n",
    "Se basa en el **teorema del valor medio**: Si $f(x)$ es una función continua en el intervalo $[a,b]$ y $k$ es un número entre $f(a)$ y $f(b)$, entonces existe un número $c$ tal que $f(c) = k$\n",
    "\n",
    "Escogemos un intervalo que contenga la raiz, para esto debemos escoger $[a,b]$ de forma que $f(a)f(b) < 0$, pues, esto garantiza que uno de los terminos es negativo y por ende, hay un cambio de signo entre $a$ y $b$.\n",
    "\n",
    "Se revisa si $a$ y $b$ son raíces, si no, se elige un punto medio entre estos valores de abcisa. $c =\\frac{a+b}{2}$\n",
    "\n",
    "Revisamos si la raiz está entre $[a,c]$ o si está entre $c,b$. Elegido el nuevo intervalo, repetimos el procedimiento hasta que $|f(c)| < \\epsilon$"
   ]
  },
  {
   "cell_type": "code",
   "execution_count": 6,
   "id": "e2251fae",
   "metadata": {},
   "outputs": [],
   "source": [
    "def biseccion(f,a,b,eps = 1e-8,Nmax = 100):\n",
    "    '''Usa el algoritmo de bisección para encontrar las raices de una función dada'''\n",
    "    \n",
    "    #Verificamos que el intervalo [a,b] cumpla las condiciones\n",
    "    if a > b or f(a)*f(b) >= 0:\n",
    "        print('Escoger un mejor intervalo!')\n",
    "        r = None\n",
    "    \n",
    "    #Si cumple las condiciones, verificamos que la raiz no esté en los extremos\n",
    "    elif abs(f(a)) <= eps: \n",
    "        r = a\n",
    "    elif abs(f(b)) <= eps: \n",
    "        r = b\n",
    "            \n",
    "    #Si los extremos no son raiz, entonces implementamos el algoritmo\n",
    "    else:\n",
    "        r = (a+b)/2 #escogemos punto medio\n",
    "        i = 0\n",
    "        while abs(f(r)) > eps and i < Nmax:\n",
    "            i += 1\n",
    "        \n",
    "            #verificamos en qué intervalo está la raiz\n",
    "\n",
    "            if f(a)*f(r) < 0:\n",
    "            #La raiz está en el intervalo [a,r]\n",
    "                b = r\n",
    "                r = (a+b)/2\n",
    "\n",
    "            #La raiz está en el intervalo [r,b]\n",
    "            else:\n",
    "                a = r    \n",
    "                r = (a+b)/2\n",
    "    #------------------------------------------------\n",
    "    return r"
   ]
  },
  {
   "cell_type": "markdown",
   "id": "6d8ca28e",
   "metadata": {},
   "source": [
    "## Método de punto fijo\n",
    "\n",
    "Un punto fijo es un punto $p$ tal que $f(p) = p$.\n",
    "\n",
    "Sea $p$ un punto fijo de la función $g(x)$ y sea $f(x)$ una función de la forma:\n",
    "\n",
    "$$f(x)=x-g(x)$$\n",
    "\n",
    "El punto $p$ es una raíz de la función $f(x)$. Para encontrar un punto fijo usamos la secuencia $p_n = g(p_n-1)$"
   ]
  },
  {
   "cell_type": "code",
   "execution_count": 7,
   "id": "8a338230",
   "metadata": {},
   "outputs": [],
   "source": [
    "def puntofijo(g,p0,eps = 1e-10,Nmax=100):\n",
    "    '''Encuentra un punto fijo de la función g(x)'''\n",
    "    \n",
    "    i = 0\n",
    "    while abs(g(p0)) >= eps and i < Nmax:\n",
    "        i += 1\n",
    "        p0 = g(p0) #encontramos un punto fijo usando la secuencia\n",
    "    \n",
    "    return p0"
   ]
  },
  {
   "cell_type": "markdown",
   "id": "161e1acf",
   "metadata": {},
   "source": [
    "No todas las funciones convergen a un punto fijo.\n",
    "\n",
    "## Teorema del punto fijo\n",
    "\n",
    "Sea $g(x)$ una función continua en $(a,b)$, si $g(x)$ cumple que:\n",
    "\n",
    "* $a < g(p_0) < b$ Para todo $p_0 \\in (a,b)$\n",
    "* $|g'(p_0)| < 1$\n",
    "\n",
    "Entonces la secuencia $p_n = g(p_{n-1})$ converge a un único punto llamado **punto fijo**.\n",
    "\n",
    "**nota:** Despejar $x$ de mayor grado"
   ]
  },
  {
   "cell_type": "markdown",
   "id": "8d930d4b",
   "metadata": {},
   "source": [
    "## Newton-Raphson\n",
    "\n",
    "Consideremos el polinomio de Taylor hasta grado 2.\n",
    "\n",
    "$$f(p) = f(p_0)+(p-p_0)f'(p_0)+\\frac{(p-p_0)^2}{2}f''(\\xi(p))$$\n",
    "\n",
    "Como $p$ es una raiz de $f(x)$, $f(p) = 0$ y despejando $p$ tenemos:\n",
    "\n",
    "$$ p = p_0 - \\frac{f(p_0)}{f'(p_0)}$$\n",
    "\n",
    "Para que este método funcione se debe garantizar que $f'(p_0) \\neq 0 $\n",
    "\n",
    "Para no complicarnos la vida con la derivada, podemos aproximarla usando el cociente incremental de Newton:\n",
    "\n",
    "$$f(x)\\approx \\frac{f(x+h)-f(x)}{h}$$"
   ]
  },
  {
   "cell_type": "code",
   "execution_count": 26,
   "id": "8996c324",
   "metadata": {
    "scrolled": true
   },
   "outputs": [],
   "source": [
    "def Newton(f,p0,h = 1e-5,eps = 1e-8,Nmax=100):\n",
    "    '''Encuentra la raiz de la función usando el método de Newton-Raphson'''\n",
    "    \n",
    "    #encontremos la aproximación de la derivada\n",
    "    df = (f(p0+h)-f(p0))/h\n",
    "    \n",
    "    #Debemos verificar que la derivada sea distinta de cero en p0\n",
    "    if abs(df) <= eps:\n",
    "        print('Elige otro p0!')\n",
    "        p0 = None\n",
    "    \n",
    "    #implementamos el algoritmo\n",
    "    else:\n",
    "        i = 0\n",
    "        while abs(f(p0)) >= eps and i <= Nmax:\n",
    "            p0 = p0 - f(p0)/df\n",
    "            df = (f(p0+h)-f(p0))/h\n",
    "            i += 1\n",
    "    return p0"
   ]
  },
  {
   "cell_type": "markdown",
   "id": "5c9cd94b",
   "metadata": {},
   "source": [
    "## Método de la secante \n",
    "\n",
    "El método de la secante reemplaza la aproximación de la derivada por la siguiente expresión:\n",
    "\n",
    "$$f'(p_{n-1}) \\approx \\frac{f(p_{n-1})-f(p_{n-2})}{p_{n-1}-p_{n-2}}$$\n",
    "\n",
    "Así, el $h$ va variando en cada iteración y la expresión queda:\n",
    "\n",
    "$$p_n = p_{n-1}-\\frac{f(p_{n-1})(p_{n-1}-p_{n-2})}{f(p_{n-1})-f(p_{n-2})}$$"
   ]
  },
  {
   "cell_type": "code",
   "execution_count": 38,
   "id": "7f7735ac",
   "metadata": {},
   "outputs": [],
   "source": [
    "def Secante(f,p0,p1, eps = 1e-8,Nmax=100):\n",
    "    '''Encuentra la raiz de la función usando el método de Newton-Raphson'''\n",
    "    \n",
    "    #Debemos verificar que la derivada sea distinta de cero en p0\n",
    "    if abs(p1-p0) <= eps:\n",
    "        p1 = None\n",
    "    \n",
    "    #implementamos el algoritmo\n",
    "    else:\n",
    "        i = 0\n",
    "        while abs(f(p1)) >= eps and i <= Nmax:\n",
    "            p2 = p0 - f(p0)*(p1-p0)/(f(p1)-f(p0))\n",
    "            p0 = p1\n",
    "            p1 = p2\n",
    "    \n",
    "            i += 1\n",
    "    return p2"
   ]
  },
  {
   "cell_type": "markdown",
   "id": "c6f3e4b8",
   "metadata": {},
   "source": [
    "## Método de la falsa posición\n",
    "\n",
    "Este método genera aproximaciones como el método de la secante pero incluye un test para asegurar que la raiź está siempre entre los corchetes de las sucesivas interacciones así como el método de bisección.\n",
    "\n",
    "Este método es más lento que el de Newton y el de la secante, pero es más rápido que el de bisección y **garantiza convergencia** cuando existe la raiz.\n",
    "\n",
    "el método funciona de la siguiente forma:\n",
    "\n",
    "Dados dos puntos $p_0$ y $p_1$\n",
    "\n",
    "1.) Si $f(p_0)f(p_1)< 0$, existe una raiz entre los puntos dados. Elegimos $p_2$ como el intercepto de la línea que une los puntos $(p_0,f(p_0))$ y $(p_1,f(p_1))$ con el eje $x$.\n",
    "\n",
    "2.) Si $f(p_2)f(p_1) < 0$ entonces la raiz está entre $p_1$ y $p_2$, se elige $p_3$ como el intercepto en el eje x de la línea que une los puntos $p_1$ y $p_2$\n",
    "\n",
    "* Si no, entonces $p_3$ se elige como el intercepto con el eje x de la línea que une los puntos $p_0$ y $p_2$\n",
    "\n",
    "El procedimiento se repite hasta cumplir con la tolerancia"
   ]
  },
  {
   "cell_type": "code",
   "execution_count": 41,
   "id": "c41e8fe0",
   "metadata": {},
   "outputs": [],
   "source": [
    "def  falsa_pos(f,p0,p1,eps=1e-8):\n",
    "  '''Retorna la raiz de una función usando el método de la falsa posición'''\n",
    "  \n",
    "  #Verificamos que el intervalo sea válido\n",
    "\n",
    "  #Si el intervalo no es válido imprimimos mensaje de error\n",
    "  if p1 < p0 or f(p0)*f(p1)>0: \n",
    "    print('El intervalo no es válido')\n",
    "  \n",
    "  #Si el intervalo es válido, implementamos el algoritmo\n",
    "  else:\n",
    "\n",
    "    #definimos contador de iteraciones\n",
    "    i = 0\n",
    "    \n",
    "    #mientras no se cumpla el maximo de iteraciones\n",
    "    while i < 50:\n",
    "      \n",
    "      #aumentamos el contador en 1\n",
    "      i += 1      \n",
    "      \n",
    "      #definimos los puntos iniciales\n",
    "      f0 = f(p0)\n",
    "      f1 = f(p1)\n",
    "      \n",
    "      #definimos p2 (intercepto eje x con recta que pasa por los puntos iniciales)\n",
    "      p2 = p1 - f1*(p1-p0)/(f1-f0)\n",
    "      f2 = f(p2)\n",
    "      #Si el valor p2 cumple la tolerancia\n",
    "      if abs(f(p2)) < eps:\n",
    "        \n",
    "        #rompemos el ciclo \n",
    "        break      \n",
    "      \n",
    "      #Si la raiz está en el intervalo [p2,p1]\n",
    "      if f1*f2 < 0: \n",
    "          #redefinimos p0 como p1\n",
    "          p0 = p1\n",
    "\n",
    "      #redefinimos p1 como p2\n",
    "      p1 = p2\n",
    "\n",
    "    return p2,i"
   ]
  },
  {
   "cell_type": "markdown",
   "id": "1decd98d",
   "metadata": {},
   "source": [
    "## Método de Steffensen\n",
    "\n",
    "Variante del método de punto fijo el cual es acelerado mediante el uso del método de aitken.\n",
    "\n",
    "### Aceleración de series de convergencia lineal (Aitken)\n",
    "\n",
    "El método Aitken dice que si una secuencia $\\{p_n\\}_0^\\infty$ es de convergencia lineal, esta se puede remplazar por la secuencia $\\{p_n'\\}_0^\\infty$ generada por,\n",
    " \n",
    "$$\\boxed{p_n' = p_n − \\frac{(p_{n+1} - p_n)^2}{p_{n+2} - 2p_{n+1} + p_n}}$$\n",
    "\n",
    "la cual converge más rápido que la secuencia original.\n",
    "\n",
    "El método nos dice que:\n",
    "\n",
    "$$p\\rightarrow p_n' \\approx  p_n − \\frac{(p_{n+1} - p_n)^2}{p_{n+2} - 2p_{n+1} + p_n}.$$"
   ]
  },
  {
   "cell_type": "code",
   "execution_count": 49,
   "id": "ab374922",
   "metadata": {},
   "outputs": [],
   "source": [
    "def Steffensen(f,p0, eps = 1e-8,Nmax=100):\n",
    "    '''Encuentra la raiz de la función usando el método de Newton-Raphson'''\n",
    "    \n",
    "    #Debemos verificar que la derivada sea distinta de cero en p0\n",
    "    if abs(f(p0)) <= eps:\n",
    "        p1 = None\n",
    "    \n",
    "    #implementamos el algoritmo\n",
    "    else:\n",
    "        i = 0\n",
    "        p1 = f(p0)\n",
    "        p2 = f(p1)\n",
    "        while abs(f(p2)) >= eps and i <= Nmax:\n",
    "            p2 = p0 - (p1-p2)**2/(p2-2*p1+p0)\n",
    "            p0 = p2\n",
    "            p1 = f(p0)\n",
    "            p2 = f(p1)\n",
    "    \n",
    "            i += 1\n",
    "    return p2"
   ]
  }
 ],
 "metadata": {
  "kernelspec": {
   "display_name": "Python 3 (ipykernel)",
   "language": "python",
   "name": "python3"
  },
  "language_info": {
   "codemirror_mode": {
    "name": "ipython",
    "version": 3
   },
   "file_extension": ".py",
   "mimetype": "text/x-python",
   "name": "python",
   "nbconvert_exporter": "python",
   "pygments_lexer": "ipython3",
   "version": "3.10.4"
  }
 },
 "nbformat": 4,
 "nbformat_minor": 5
}
